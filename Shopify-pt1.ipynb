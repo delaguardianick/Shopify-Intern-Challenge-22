{
 "cells": [
  {
   "cell_type": "code",
   "execution_count": 1,
   "metadata": {},
   "outputs": [],
   "source": [
    "import pandas as pd\n",
    "import os\n",
    "pwd = os.getcwd()\n",
    "dataset = pd.read_excel(pwd + \"\\\\2019 Winter Data Science Intern Challenge Data Set.xlsx\")\n",
    "dataset.head()\n",
    "df = dataset.copy()"
   ]
  },
  {
   "cell_type": "code",
   "execution_count": 9,
   "metadata": {
    "scrolled": true
   },
   "outputs": [
    {
     "name": "stdout",
     "output_type": "stream",
     "text": [
      "meanAOV is $3145.128\n",
      "Standard deviation is $41282.54\n"
     ]
    }
   ],
   "source": [
    "meanAOV = df['order_amount'].mean()\n",
    "std = df['order_amount'].std()\n",
    "print(f\"meanAOV is ${meanAOV}\")\n",
    "print(f\"Standard deviation is ${std:.2f}\")"
   ]
  },
  {
   "cell_type": "markdown",
   "metadata": {},
   "source": [
    "The naive average order value (AOV) is calculated using the\n",
    "an average (mean metric) of all order amounts. \n",
    "\n",
    "This calculation would be fine if there weren't such significant outliers in order amounts:\n",
    "the vast majority of order amounts are in the hundreds range (up to 999),\n",
    "but a few are in the tens of thousands or even hundred thousands (up to 99,999)\n",
    "We can notice the presence of the massive outliers by calculating the standard deviation."
   ]
  },
  {
   "cell_type": "code",
   "execution_count": 10,
   "metadata": {},
   "outputs": [
    {
     "name": "stdout",
     "output_type": "stream",
     "text": [
      "medianAOV is $284.0\n"
     ]
    }
   ],
   "source": [
    "medianAOV = df['order_amount'].median()\n",
    "print(f\"medianAOV is ${medianAOV}\")"
   ]
  },
  {
   "cell_type": "markdown",
   "metadata": {},
   "source": [
    "A more appropiate metric to deal with outliers is the median. It works by sorting all the amounts\n",
    "and choosing the value in the middle. Since it doesn't take into account how much bigger\n",
    "the values are from each other, having large outliers doesn't affect the result.\n",
    "\n",
    "Since we're talking about sneakers here, $284 is a much more believable AOV than 3145"
   ]
  }
 ],
 "metadata": {
  "interpreter": {
   "hash": "407ce6d06acec85fecfbe78807cd278602559ffb365ede68a650b1e3cf32e92f"
  },
  "kernelspec": {
   "display_name": "Python 3",
   "language": "python",
   "name": "python3"
  },
  "language_info": {
   "codemirror_mode": {
    "name": "ipython",
    "version": 3
   },
   "file_extension": ".py",
   "mimetype": "text/x-python",
   "name": "python",
   "nbconvert_exporter": "python",
   "pygments_lexer": "ipython3",
   "version": "3.8.5"
  }
 },
 "nbformat": 4,
 "nbformat_minor": 2
}
